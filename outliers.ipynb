{
 "cells": [
  {
   "cell_type": "markdown",
   "id": "9a711f19-a2d5-4e09-a67b-7ecf47aa81b1",
   "metadata": {},
   "source": [
    "# Detección de valores Anomalos"
   ]
  },
  {
   "cell_type": "code",
   "execution_count": null,
   "id": "89f2c6b7-6788-47f2-9f77-7d5feedd4080",
   "metadata": {},
   "outputs": [],
   "source": [
    "import pandas as pd"
   ]
  },
  {
   "cell_type": "code",
   "execution_count": null,
   "id": "ffca82be-14da-47be-a6c0-67dd058c067f",
   "metadata": {},
   "outputs": [],
   "source": []
  }
 ],
 "metadata": {
  "kernelspec": {
   "display_name": "Python 3 (ipykernel)",
   "language": "python",
   "name": "python3"
  },
  "language_info": {
   "codemirror_mode": {
    "name": "ipython",
    "version": 3
   },
   "file_extension": ".py",
   "mimetype": "text/x-python",
   "name": "python",
   "nbconvert_exporter": "python",
   "pygments_lexer": "ipython3",
   "version": "3.8.12"
  }
 },
 "nbformat": 4,
 "nbformat_minor": 5
}
